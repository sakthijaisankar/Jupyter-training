{
  "nbformat": 4,
  "nbformat_minor": 0,
  "metadata": {
    "colab": {
      "provenance": [],
      "gpuType": "V28"
    },
    "kernelspec": {
      "name": "python3",
      "display_name": "Python 3"
    },
    "language_info": {
      "name": "python"
    },
    "accelerator": "TPU"
  },
  "cells": [
    {
      "cell_type": "code",
      "execution_count": null,
      "metadata": {
        "colab": {
          "base_uri": "https://localhost:8080/"
        },
        "id": "t6dtfnGxNTFV",
        "outputId": "cb213be6-1433-42a2-b7c5-47181ffffda8"
      },
      "outputs": [
        {
          "output_type": "stream",
          "name": "stdout",
          "text": [
            "Drive already mounted at /content/drive; to attempt to forcibly remount, call drive.mount(\"/content/drive\", force_remount=True).\n"
          ]
        }
      ],
      "source": [
        "from google.colab import drive\n",
        "drive.mount('/content/drive')"
      ]
    },
    {
      "cell_type": "code",
      "source": [
        "import os\n",
        "HOME = os.getcwd()\n",
        "print(HOME)"
      ],
      "metadata": {
        "colab": {
          "base_uri": "https://localhost:8080/"
        },
        "id": "hm9Oa4ayNs4_",
        "outputId": "ab330a20-0b4b-4697-daf0-7d3a6917cba2"
      },
      "execution_count": null,
      "outputs": [
        {
          "output_type": "stream",
          "name": "stdout",
          "text": [
            "/content\n"
          ]
        }
      ]
    },
    {
      "cell_type": "code",
      "source": [
        "from IPython.display import display, Image, clear_output\n",
        "clear_output()"
      ],
      "metadata": {
        "id": "lbBJNxkhOSZv"
      },
      "execution_count": null,
      "outputs": []
    },
    {
      "cell_type": "code",
      "source": [
        "# creating, training, and deploying machine learning models\n",
        "# with a no-code interface and deep learning framework support\n",
        "\n",
        "!pip install ultralytics==8.0.196\n",
        "!pip install roboflow"
      ],
      "metadata": {
        "colab": {
          "base_uri": "https://localhost:8080/",
          "height": 1000
        },
        "id": "k53omladOUru",
        "outputId": "09bcd8f7-03a8-4ba9-abe3-a36005c4a23a"
      },
      "execution_count": null,
      "outputs": [
        {
          "output_type": "stream",
          "name": "stdout",
          "text": [
            "Collecting ultralytics==8.0.196\n",
            "  Downloading ultralytics-8.0.196-py3-none-any.whl (631 kB)\n",
            "\u001b[?25l     \u001b[90m━━━━━━━━━━━━━━━━━━━━━━━━━━━━━━━━━━━━━━━━\u001b[0m \u001b[32m0.0/631.1 kB\u001b[0m \u001b[31m?\u001b[0m eta \u001b[36m-:--:--\u001b[0m\r\u001b[2K     \u001b[91m━━━━━━━\u001b[0m\u001b[91m╸\u001b[0m\u001b[90m━━━━━━━━━━━━━━━━━━━━━━━━━━━━━━━━\u001b[0m \u001b[32m122.9/631.1 kB\u001b[0m \u001b[31m3.5 MB/s\u001b[0m eta \u001b[36m0:00:01\u001b[0m\r\u001b[2K     \u001b[91m━━━━━━━━━━━━━━━━━━━━━━━━━━━━━━━━━━━\u001b[0m\u001b[90m╺\u001b[0m\u001b[90m━━━━\u001b[0m \u001b[32m553.0/631.1 kB\u001b[0m \u001b[31m7.8 MB/s\u001b[0m eta \u001b[36m0:00:01\u001b[0m\r\u001b[2K     \u001b[90m━━━━━━━━━━━━━━━━━━━━━━━━━━━━━━━━━━━━━━━━\u001b[0m \u001b[32m631.1/631.1 kB\u001b[0m \u001b[31m7.0 MB/s\u001b[0m eta \u001b[36m0:00:00\u001b[0m\n",
            "\u001b[?25hRequirement already satisfied: matplotlib>=3.3.0 in /usr/local/lib/python3.10/dist-packages (from ultralytics==8.0.196) (3.7.1)\n",
            "Requirement already satisfied: numpy>=1.22.2 in /usr/local/lib/python3.10/dist-packages (from ultralytics==8.0.196) (1.25.2)\n",
            "Requirement already satisfied: opencv-python>=4.6.0 in /usr/local/lib/python3.10/dist-packages (from ultralytics==8.0.196) (4.8.0.76)\n",
            "Requirement already satisfied: pillow>=7.1.2 in /usr/local/lib/python3.10/dist-packages (from ultralytics==8.0.196) (9.4.0)\n",
            "Requirement already satisfied: pyyaml>=5.3.1 in /usr/local/lib/python3.10/dist-packages (from ultralytics==8.0.196) (6.0.1)\n",
            "Requirement already satisfied: requests>=2.23.0 in /usr/local/lib/python3.10/dist-packages (from ultralytics==8.0.196) (2.31.0)\n",
            "Requirement already satisfied: scipy>=1.4.1 in /usr/local/lib/python3.10/dist-packages (from ultralytics==8.0.196) (1.11.4)\n",
            "Requirement already satisfied: torch>=1.8.0 in /usr/local/lib/python3.10/dist-packages (from ultralytics==8.0.196) (2.3.0+cu121)\n",
            "Requirement already satisfied: torchvision>=0.9.0 in /usr/local/lib/python3.10/dist-packages (from ultralytics==8.0.196) (0.18.0+cu121)\n",
            "Requirement already satisfied: tqdm>=4.64.0 in /usr/local/lib/python3.10/dist-packages (from ultralytics==8.0.196) (4.66.4)\n",
            "Requirement already satisfied: pandas>=1.1.4 in /usr/local/lib/python3.10/dist-packages (from ultralytics==8.0.196) (2.0.3)\n",
            "Requirement already satisfied: seaborn>=0.11.0 in /usr/local/lib/python3.10/dist-packages (from ultralytics==8.0.196) (0.13.1)\n",
            "Requirement already satisfied: psutil in /usr/local/lib/python3.10/dist-packages (from ultralytics==8.0.196) (5.9.5)\n",
            "Requirement already satisfied: py-cpuinfo in /usr/local/lib/python3.10/dist-packages (from ultralytics==8.0.196) (9.0.0)\n",
            "Collecting thop>=0.1.1 (from ultralytics==8.0.196)\n",
            "  Downloading thop-0.1.1.post2209072238-py3-none-any.whl (15 kB)\n",
            "Requirement already satisfied: contourpy>=1.0.1 in /usr/local/lib/python3.10/dist-packages (from matplotlib>=3.3.0->ultralytics==8.0.196) (1.2.1)\n",
            "Requirement already satisfied: cycler>=0.10 in /usr/local/lib/python3.10/dist-packages (from matplotlib>=3.3.0->ultralytics==8.0.196) (0.12.1)\n",
            "Requirement already satisfied: fonttools>=4.22.0 in /usr/local/lib/python3.10/dist-packages (from matplotlib>=3.3.0->ultralytics==8.0.196) (4.53.0)\n",
            "Requirement already satisfied: kiwisolver>=1.0.1 in /usr/local/lib/python3.10/dist-packages (from matplotlib>=3.3.0->ultralytics==8.0.196) (1.4.5)\n",
            "Requirement already satisfied: packaging>=20.0 in /usr/local/lib/python3.10/dist-packages (from matplotlib>=3.3.0->ultralytics==8.0.196) (24.0)\n",
            "Requirement already satisfied: pyparsing>=2.3.1 in /usr/local/lib/python3.10/dist-packages (from matplotlib>=3.3.0->ultralytics==8.0.196) (3.1.2)\n",
            "Requirement already satisfied: python-dateutil>=2.7 in /usr/local/lib/python3.10/dist-packages (from matplotlib>=3.3.0->ultralytics==8.0.196) (2.8.2)\n",
            "Requirement already satisfied: pytz>=2020.1 in /usr/local/lib/python3.10/dist-packages (from pandas>=1.1.4->ultralytics==8.0.196) (2023.4)\n",
            "Requirement already satisfied: tzdata>=2022.1 in /usr/local/lib/python3.10/dist-packages (from pandas>=1.1.4->ultralytics==8.0.196) (2024.1)\n",
            "Requirement already satisfied: charset-normalizer<4,>=2 in /usr/local/lib/python3.10/dist-packages (from requests>=2.23.0->ultralytics==8.0.196) (3.3.2)\n",
            "Requirement already satisfied: idna<4,>=2.5 in /usr/local/lib/python3.10/dist-packages (from requests>=2.23.0->ultralytics==8.0.196) (3.7)\n",
            "Requirement already satisfied: urllib3<3,>=1.21.1 in /usr/local/lib/python3.10/dist-packages (from requests>=2.23.0->ultralytics==8.0.196) (2.0.7)\n",
            "Requirement already satisfied: certifi>=2017.4.17 in /usr/local/lib/python3.10/dist-packages (from requests>=2.23.0->ultralytics==8.0.196) (2024.6.2)\n",
            "Requirement already satisfied: filelock in /usr/local/lib/python3.10/dist-packages (from torch>=1.8.0->ultralytics==8.0.196) (3.14.0)\n",
            "Requirement already satisfied: typing-extensions>=4.8.0 in /usr/local/lib/python3.10/dist-packages (from torch>=1.8.0->ultralytics==8.0.196) (4.12.1)\n",
            "Requirement already satisfied: sympy in /usr/local/lib/python3.10/dist-packages (from torch>=1.8.0->ultralytics==8.0.196) (1.12.1)\n",
            "Requirement already satisfied: networkx in /usr/local/lib/python3.10/dist-packages (from torch>=1.8.0->ultralytics==8.0.196) (3.3)\n",
            "Requirement already satisfied: jinja2 in /usr/local/lib/python3.10/dist-packages (from torch>=1.8.0->ultralytics==8.0.196) (3.1.4)\n",
            "Requirement already satisfied: fsspec in /usr/local/lib/python3.10/dist-packages (from torch>=1.8.0->ultralytics==8.0.196) (2023.6.0)\n",
            "Collecting nvidia-cuda-nvrtc-cu12==12.1.105 (from torch>=1.8.0->ultralytics==8.0.196)\n",
            "  Using cached nvidia_cuda_nvrtc_cu12-12.1.105-py3-none-manylinux1_x86_64.whl (23.7 MB)\n",
            "Collecting nvidia-cuda-runtime-cu12==12.1.105 (from torch>=1.8.0->ultralytics==8.0.196)\n",
            "  Using cached nvidia_cuda_runtime_cu12-12.1.105-py3-none-manylinux1_x86_64.whl (823 kB)\n",
            "Collecting nvidia-cuda-cupti-cu12==12.1.105 (from torch>=1.8.0->ultralytics==8.0.196)\n",
            "  Using cached nvidia_cuda_cupti_cu12-12.1.105-py3-none-manylinux1_x86_64.whl (14.1 MB)\n",
            "Collecting nvidia-cudnn-cu12==8.9.2.26 (from torch>=1.8.0->ultralytics==8.0.196)\n",
            "  Using cached nvidia_cudnn_cu12-8.9.2.26-py3-none-manylinux1_x86_64.whl (731.7 MB)\n",
            "Collecting nvidia-cublas-cu12==12.1.3.1 (from torch>=1.8.0->ultralytics==8.0.196)\n",
            "  Using cached nvidia_cublas_cu12-12.1.3.1-py3-none-manylinux1_x86_64.whl (410.6 MB)\n",
            "Collecting nvidia-cufft-cu12==11.0.2.54 (from torch>=1.8.0->ultralytics==8.0.196)\n",
            "  Using cached nvidia_cufft_cu12-11.0.2.54-py3-none-manylinux1_x86_64.whl (121.6 MB)\n",
            "Collecting nvidia-curand-cu12==10.3.2.106 (from torch>=1.8.0->ultralytics==8.0.196)\n",
            "  Using cached nvidia_curand_cu12-10.3.2.106-py3-none-manylinux1_x86_64.whl (56.5 MB)\n",
            "Collecting nvidia-cusolver-cu12==11.4.5.107 (from torch>=1.8.0->ultralytics==8.0.196)\n",
            "  Using cached nvidia_cusolver_cu12-11.4.5.107-py3-none-manylinux1_x86_64.whl (124.2 MB)\n",
            "Collecting nvidia-cusparse-cu12==12.1.0.106 (from torch>=1.8.0->ultralytics==8.0.196)\n",
            "  Using cached nvidia_cusparse_cu12-12.1.0.106-py3-none-manylinux1_x86_64.whl (196.0 MB)\n",
            "Collecting nvidia-nccl-cu12==2.20.5 (from torch>=1.8.0->ultralytics==8.0.196)\n",
            "  Using cached nvidia_nccl_cu12-2.20.5-py3-none-manylinux2014_x86_64.whl (176.2 MB)\n",
            "Collecting nvidia-nvtx-cu12==12.1.105 (from torch>=1.8.0->ultralytics==8.0.196)\n",
            "  Using cached nvidia_nvtx_cu12-12.1.105-py3-none-manylinux1_x86_64.whl (99 kB)\n",
            "Requirement already satisfied: triton==2.3.0 in /usr/local/lib/python3.10/dist-packages (from torch>=1.8.0->ultralytics==8.0.196) (2.3.0)\n",
            "Collecting nvidia-nvjitlink-cu12 (from nvidia-cusolver-cu12==11.4.5.107->torch>=1.8.0->ultralytics==8.0.196)\n",
            "  Downloading nvidia_nvjitlink_cu12-12.5.40-py3-none-manylinux2014_x86_64.whl (21.3 MB)\n",
            "\u001b[2K     \u001b[90m━━━━━━━━━━━━━━━━━━━━━━━━━━━━━━━━━━━━━━━━\u001b[0m \u001b[32m21.3/21.3 MB\u001b[0m \u001b[31m52.6 MB/s\u001b[0m eta \u001b[36m0:00:00\u001b[0m\n",
            "\u001b[?25hRequirement already satisfied: six>=1.5 in /usr/local/lib/python3.10/dist-packages (from python-dateutil>=2.7->matplotlib>=3.3.0->ultralytics==8.0.196) (1.16.0)\n",
            "Requirement already satisfied: MarkupSafe>=2.0 in /usr/local/lib/python3.10/dist-packages (from jinja2->torch>=1.8.0->ultralytics==8.0.196) (2.1.5)\n",
            "Requirement already satisfied: mpmath<1.4.0,>=1.1.0 in /usr/local/lib/python3.10/dist-packages (from sympy->torch>=1.8.0->ultralytics==8.0.196) (1.3.0)\n",
            "Installing collected packages: nvidia-nvtx-cu12, nvidia-nvjitlink-cu12, nvidia-nccl-cu12, nvidia-curand-cu12, nvidia-cufft-cu12, nvidia-cuda-runtime-cu12, nvidia-cuda-nvrtc-cu12, nvidia-cuda-cupti-cu12, nvidia-cublas-cu12, nvidia-cusparse-cu12, nvidia-cudnn-cu12, nvidia-cusolver-cu12, thop, ultralytics\n",
            "Successfully installed nvidia-cublas-cu12-12.1.3.1 nvidia-cuda-cupti-cu12-12.1.105 nvidia-cuda-nvrtc-cu12-12.1.105 nvidia-cuda-runtime-cu12-12.1.105 nvidia-cudnn-cu12-8.9.2.26 nvidia-cufft-cu12-11.0.2.54 nvidia-curand-cu12-10.3.2.106 nvidia-cusolver-cu12-11.4.5.107 nvidia-cusparse-cu12-12.1.0.106 nvidia-nccl-cu12-2.20.5 nvidia-nvjitlink-cu12-12.5.40 nvidia-nvtx-cu12-12.1.105 thop-0.1.1.post2209072238 ultralytics-8.0.196\n",
            "Collecting roboflow\n",
            "  Downloading roboflow-1.1.32-py3-none-any.whl (75 kB)\n",
            "\u001b[2K     \u001b[90m━━━━━━━━━━━━━━━━━━━━━━━━━━━━━━━━━━━━━━━━\u001b[0m \u001b[32m75.6/75.6 kB\u001b[0m \u001b[31m1.9 MB/s\u001b[0m eta \u001b[36m0:00:00\u001b[0m\n",
            "\u001b[?25hCollecting certifi==2023.7.22 (from roboflow)\n",
            "  Downloading certifi-2023.7.22-py3-none-any.whl (158 kB)\n",
            "\u001b[2K     \u001b[90m━━━━━━━━━━━━━━━━━━━━━━━━━━━━━━━━━━━━━━━━\u001b[0m \u001b[32m158.3/158.3 kB\u001b[0m \u001b[31m9.9 MB/s\u001b[0m eta \u001b[36m0:00:00\u001b[0m\n",
            "\u001b[?25hCollecting chardet==4.0.0 (from roboflow)\n",
            "  Downloading chardet-4.0.0-py2.py3-none-any.whl (178 kB)\n",
            "\u001b[2K     \u001b[90m━━━━━━━━━━━━━━━━━━━━━━━━━━━━━━━━━━━━━━━━\u001b[0m \u001b[32m178.7/178.7 kB\u001b[0m \u001b[31m15.3 MB/s\u001b[0m eta \u001b[36m0:00:00\u001b[0m\n",
            "\u001b[?25hCollecting cycler==0.10.0 (from roboflow)\n",
            "  Downloading cycler-0.10.0-py2.py3-none-any.whl (6.5 kB)\n",
            "Collecting idna==2.10 (from roboflow)\n",
            "  Downloading idna-2.10-py2.py3-none-any.whl (58 kB)\n",
            "\u001b[2K     \u001b[90m━━━━━━━━━━━━━━━━━━━━━━━━━━━━━━━━━━━━━━━━\u001b[0m \u001b[32m58.8/58.8 kB\u001b[0m \u001b[31m6.7 MB/s\u001b[0m eta \u001b[36m0:00:00\u001b[0m\n",
            "\u001b[?25hRequirement already satisfied: kiwisolver>=1.3.1 in /usr/local/lib/python3.10/dist-packages (from roboflow) (1.4.5)\n",
            "Requirement already satisfied: matplotlib in /usr/local/lib/python3.10/dist-packages (from roboflow) (3.7.1)\n",
            "Requirement already satisfied: numpy>=1.18.5 in /usr/local/lib/python3.10/dist-packages (from roboflow) (1.25.2)\n",
            "Collecting opencv-python-headless==4.8.0.74 (from roboflow)\n",
            "  Downloading opencv_python_headless-4.8.0.74-cp37-abi3-manylinux_2_17_x86_64.manylinux2014_x86_64.whl (49.1 MB)\n",
            "\u001b[2K     \u001b[90m━━━━━━━━━━━━━━━━━━━━━━━━━━━━━━━━━━━━━━━━\u001b[0m \u001b[32m49.1/49.1 MB\u001b[0m \u001b[31m9.5 MB/s\u001b[0m eta \u001b[36m0:00:00\u001b[0m\n",
            "\u001b[?25hRequirement already satisfied: Pillow>=7.1.2 in /usr/local/lib/python3.10/dist-packages (from roboflow) (9.4.0)\n",
            "Requirement already satisfied: python-dateutil in /usr/local/lib/python3.10/dist-packages (from roboflow) (2.8.2)\n",
            "Collecting python-dotenv (from roboflow)\n",
            "  Downloading python_dotenv-1.0.1-py3-none-any.whl (19 kB)\n",
            "Requirement already satisfied: requests in /usr/local/lib/python3.10/dist-packages (from roboflow) (2.31.0)\n",
            "Requirement already satisfied: six in /usr/local/lib/python3.10/dist-packages (from roboflow) (1.16.0)\n",
            "Requirement already satisfied: urllib3>=1.26.6 in /usr/local/lib/python3.10/dist-packages (from roboflow) (2.0.7)\n",
            "Requirement already satisfied: tqdm>=4.41.0 in /usr/local/lib/python3.10/dist-packages (from roboflow) (4.66.4)\n",
            "Requirement already satisfied: PyYAML>=5.3.1 in /usr/local/lib/python3.10/dist-packages (from roboflow) (6.0.1)\n",
            "Collecting requests-toolbelt (from roboflow)\n",
            "  Downloading requests_toolbelt-1.0.0-py2.py3-none-any.whl (54 kB)\n",
            "\u001b[2K     \u001b[90m━━━━━━━━━━━━━━━━━━━━━━━━━━━━━━━━━━━━━━━━\u001b[0m \u001b[32m54.5/54.5 kB\u001b[0m \u001b[31m6.0 MB/s\u001b[0m eta \u001b[36m0:00:00\u001b[0m\n",
            "\u001b[?25hCollecting python-magic (from roboflow)\n",
            "  Downloading python_magic-0.4.27-py2.py3-none-any.whl (13 kB)\n",
            "Requirement already satisfied: contourpy>=1.0.1 in /usr/local/lib/python3.10/dist-packages (from matplotlib->roboflow) (1.2.1)\n",
            "Requirement already satisfied: fonttools>=4.22.0 in /usr/local/lib/python3.10/dist-packages (from matplotlib->roboflow) (4.53.0)\n",
            "Requirement already satisfied: packaging>=20.0 in /usr/local/lib/python3.10/dist-packages (from matplotlib->roboflow) (24.0)\n",
            "Requirement already satisfied: pyparsing>=2.3.1 in /usr/local/lib/python3.10/dist-packages (from matplotlib->roboflow) (3.1.2)\n",
            "Requirement already satisfied: charset-normalizer<4,>=2 in /usr/local/lib/python3.10/dist-packages (from requests->roboflow) (3.3.2)\n",
            "\u001b[33mWARNING: The candidate selected for download or install is a yanked version: 'opencv-python-headless' candidate (version 4.8.0.74 at https://files.pythonhosted.org/packages/76/02/f128517f3ade4bb5f71e2afd8461dba70e3f466ce745fa1fd1fade9ad1b7/opencv_python_headless-4.8.0.74-cp37-abi3-manylinux_2_17_x86_64.manylinux2014_x86_64.whl (from https://pypi.org/simple/opencv-python-headless/) (requires-python:>=3.6))\n",
            "Reason for being yanked: deprecated, use 4.8.0.76\u001b[0m\u001b[33m\n",
            "\u001b[0mInstalling collected packages: python-magic, python-dotenv, opencv-python-headless, idna, cycler, chardet, certifi, requests-toolbelt, roboflow\n",
            "  Attempting uninstall: opencv-python-headless\n",
            "    Found existing installation: opencv-python-headless 4.10.0.82\n",
            "    Uninstalling opencv-python-headless-4.10.0.82:\n",
            "      Successfully uninstalled opencv-python-headless-4.10.0.82\n",
            "  Attempting uninstall: idna\n",
            "    Found existing installation: idna 3.7\n",
            "    Uninstalling idna-3.7:\n",
            "      Successfully uninstalled idna-3.7\n",
            "  Attempting uninstall: cycler\n",
            "    Found existing installation: cycler 0.12.1\n",
            "    Uninstalling cycler-0.12.1:\n",
            "      Successfully uninstalled cycler-0.12.1\n",
            "  Attempting uninstall: chardet\n",
            "    Found existing installation: chardet 5.2.0\n",
            "    Uninstalling chardet-5.2.0:\n",
            "      Successfully uninstalled chardet-5.2.0\n",
            "  Attempting uninstall: certifi\n",
            "    Found existing installation: certifi 2024.6.2\n",
            "    Uninstalling certifi-2024.6.2:\n",
            "      Successfully uninstalled certifi-2024.6.2\n",
            "Successfully installed certifi-2023.7.22 chardet-4.0.0 cycler-0.10.0 idna-2.10 opencv-python-headless-4.8.0.74 python-dotenv-1.0.1 python-magic-0.4.27 requests-toolbelt-1.0.0 roboflow-1.1.32\n"
          ]
        },
        {
          "output_type": "display_data",
          "data": {
            "application/vnd.colab-display-data+json": {
              "pip_warning": {
                "packages": [
                  "certifi",
                  "cycler"
                ]
              },
              "id": "05af5b0f74ff4243afbfa10ba97cdf9c"
            }
          },
          "metadata": {}
        }
      ]
    },
    {
      "cell_type": "code",
      "source": [
        "import ultralytics"
      ],
      "metadata": {
        "id": "_oY2bpcXOWnm"
      },
      "execution_count": null,
      "outputs": []
    },
    {
      "cell_type": "code",
      "source": [
        "ultralytics.checks()"
      ],
      "metadata": {
        "colab": {
          "base_uri": "https://localhost:8080/"
        },
        "id": "fUmUBgkUOY82",
        "outputId": "38704e93-8683-4aae-b516-17f9e8fee8dc"
      },
      "execution_count": null,
      "outputs": [
        {
          "output_type": "stream",
          "name": "stderr",
          "text": [
            "Ultralytics YOLOv8.0.196 🚀 Python-3.10.12 torch-2.3.0+cu121 CPU (Intel Xeon 2.20GHz)\n",
            "Setup complete ✅ (2 CPUs, 12.7 GB RAM, 30.1/107.7 GB disk)\n"
          ]
        }
      ]
    },
    {
      "cell_type": "code",
      "source": [
        "!mkdir {HOME}/datasets\n",
        "%cd {HOME}/datasets"
      ],
      "metadata": {
        "colab": {
          "base_uri": "https://localhost:8080/"
        },
        "id": "K1voUgdcOavO",
        "outputId": "d32fb735-8ad4-45fe-9089-d0b8c77e3f9a"
      },
      "execution_count": null,
      "outputs": [
        {
          "output_type": "stream",
          "name": "stdout",
          "text": [
            "mkdir: cannot create directory ‘/content/datasets’: File exists\n",
            "/content/datasets\n"
          ]
        }
      ]
    },
    {
      "cell_type": "code",
      "source": [
        "!pip install roboflow\n",
        "\n",
        "from roboflow import Roboflow\n",
        "rf = Roboflow(api_key=\"N1N7Zb4O1y8Rpkdnlyhn\")\n",
        "project = rf.workspace(\"2dod\").project(\"defect-ee4bu\")\n",
        "version = project.version(3)\n",
        "dataset = version.download(\"yolov8-obb\")\n"
      ],
      "metadata": {
        "colab": {
          "base_uri": "https://localhost:8080/"
        },
        "id": "ZQsyNQr4Ohf3",
        "outputId": "300fc9d2-f2ac-4673-d41d-be5d32632203"
      },
      "execution_count": null,
      "outputs": [
        {
          "output_type": "stream",
          "name": "stdout",
          "text": [
            "Requirement already satisfied: roboflow in /usr/local/lib/python3.10/dist-packages (1.1.32)\n",
            "Requirement already satisfied: certifi==2023.7.22 in /usr/local/lib/python3.10/dist-packages (from roboflow) (2023.7.22)\n",
            "Requirement already satisfied: chardet==4.0.0 in /usr/local/lib/python3.10/dist-packages (from roboflow) (4.0.0)\n",
            "Requirement already satisfied: cycler==0.10.0 in /usr/local/lib/python3.10/dist-packages (from roboflow) (0.10.0)\n",
            "Requirement already satisfied: idna==2.10 in /usr/local/lib/python3.10/dist-packages (from roboflow) (2.10)\n",
            "Requirement already satisfied: kiwisolver>=1.3.1 in /usr/local/lib/python3.10/dist-packages (from roboflow) (1.4.5)\n",
            "Requirement already satisfied: matplotlib in /usr/local/lib/python3.10/dist-packages (from roboflow) (3.7.1)\n",
            "Requirement already satisfied: numpy>=1.18.5 in /usr/local/lib/python3.10/dist-packages (from roboflow) (1.25.2)\n",
            "Requirement already satisfied: opencv-python-headless==4.8.0.74 in /usr/local/lib/python3.10/dist-packages (from roboflow) (4.8.0.74)\n",
            "Requirement already satisfied: Pillow>=7.1.2 in /usr/local/lib/python3.10/dist-packages (from roboflow) (9.4.0)\n",
            "Requirement already satisfied: python-dateutil in /usr/local/lib/python3.10/dist-packages (from roboflow) (2.8.2)\n",
            "Requirement already satisfied: python-dotenv in /usr/local/lib/python3.10/dist-packages (from roboflow) (1.0.1)\n",
            "Requirement already satisfied: requests in /usr/local/lib/python3.10/dist-packages (from roboflow) (2.31.0)\n",
            "Requirement already satisfied: six in /usr/local/lib/python3.10/dist-packages (from roboflow) (1.16.0)\n",
            "Requirement already satisfied: urllib3>=1.26.6 in /usr/local/lib/python3.10/dist-packages (from roboflow) (2.0.7)\n",
            "Requirement already satisfied: tqdm>=4.41.0 in /usr/local/lib/python3.10/dist-packages (from roboflow) (4.66.4)\n",
            "Requirement already satisfied: PyYAML>=5.3.1 in /usr/local/lib/python3.10/dist-packages (from roboflow) (6.0.1)\n",
            "Requirement already satisfied: requests-toolbelt in /usr/local/lib/python3.10/dist-packages (from roboflow) (1.0.0)\n",
            "Requirement already satisfied: python-magic in /usr/local/lib/python3.10/dist-packages (from roboflow) (0.4.27)\n",
            "Requirement already satisfied: contourpy>=1.0.1 in /usr/local/lib/python3.10/dist-packages (from matplotlib->roboflow) (1.2.1)\n",
            "Requirement already satisfied: fonttools>=4.22.0 in /usr/local/lib/python3.10/dist-packages (from matplotlib->roboflow) (4.53.0)\n",
            "Requirement already satisfied: packaging>=20.0 in /usr/local/lib/python3.10/dist-packages (from matplotlib->roboflow) (24.0)\n",
            "Requirement already satisfied: pyparsing>=2.3.1 in /usr/local/lib/python3.10/dist-packages (from matplotlib->roboflow) (3.1.2)\n",
            "Requirement already satisfied: charset-normalizer<4,>=2 in /usr/local/lib/python3.10/dist-packages (from requests->roboflow) (3.3.2)\n",
            "loading Roboflow workspace...\n",
            "loading Roboflow project...\n"
          ]
        },
        {
          "output_type": "stream",
          "name": "stderr",
          "text": [
            "Downloading Dataset Version Zip in Defect-3 to yolov8-obb:: 100%|██████████| 304783/304783 [00:08<00:00, 37148.02it/s]"
          ]
        },
        {
          "output_type": "stream",
          "name": "stdout",
          "text": [
            "\n"
          ]
        },
        {
          "output_type": "stream",
          "name": "stderr",
          "text": [
            "\n",
            "Extracting Dataset Version Zip to Defect-3 in yolov8-obb:: 100%|██████████| 21246/21246 [00:04<00:00, 5042.67it/s]\n"
          ]
        }
      ]
    },
    {
      "cell_type": "code",
      "source": [
        "%cd {HOME}\n",
        "\n",
        "!yolo task=detect mode=train model=yolov8m.pt data=/content/datasets/Defect-3/data.yaml epochs=50 batch=64 imgsz=640 plots=True save=True optimizer=SGD dropout=0.2 augment=True"
      ],
      "metadata": {
        "colab": {
          "base_uri": "https://localhost:8080/"
        },
        "id": "evva5sG2OiTW",
        "outputId": "6f024025-f167-4379-f253-da9ba4d592dd"
      },
      "execution_count": null,
      "outputs": [
        {
          "output_type": "stream",
          "name": "stdout",
          "text": [
            "/content\n",
            "New https://pypi.org/project/ultralytics/8.2.31 available 😃 Update with 'pip install -U ultralytics'\n",
            "Ultralytics YOLOv8.0.196 🚀 Python-3.10.12 torch-2.3.0+cpu CPU (Intel Xeon 2.00GHz)\n",
            "\u001b[34m\u001b[1mengine/trainer: \u001b[0mtask=detect, mode=train, model=yolov8m.pt, data=/content/datasets/Defect-3/data.yaml, epochs=50, patience=50, batch=64, imgsz=640, save=True, save_period=-1, cache=False, device=None, workers=8, project=None, name=None, exist_ok=False, pretrained=True, optimizer=SGD, verbose=True, seed=0, deterministic=True, single_cls=False, rect=False, cos_lr=False, close_mosaic=10, resume=False, amp=True, fraction=1.0, profile=False, freeze=None, overlap_mask=True, mask_ratio=4, dropout=0.2, val=True, split=val, save_json=False, save_hybrid=False, conf=None, iou=0.7, max_det=300, half=False, dnn=False, plots=True, source=None, show=False, save_txt=False, save_conf=False, save_crop=False, show_labels=True, show_conf=True, vid_stride=1, stream_buffer=False, line_width=None, visualize=False, augment=True, agnostic_nms=False, classes=None, retina_masks=False, boxes=True, format=torchscript, keras=False, optimize=False, int8=False, dynamic=False, simplify=False, opset=None, workspace=4, nms=False, lr0=0.01, lrf=0.01, momentum=0.937, weight_decay=0.0005, warmup_epochs=3.0, warmup_momentum=0.8, warmup_bias_lr=0.1, box=7.5, cls=0.5, dfl=1.5, pose=12.0, kobj=1.0, label_smoothing=0.0, nbs=64, hsv_h=0.015, hsv_s=0.7, hsv_v=0.4, degrees=0.0, translate=0.1, scale=0.5, shear=0.0, perspective=0.0, flipud=0.0, fliplr=0.5, mosaic=1.0, mixup=0.0, copy_paste=0.0, cfg=None, tracker=botsort.yaml, save_dir=runs/detect/train2\n",
            "Downloading https://ultralytics.com/assets/Arial.ttf to '/root/.config/Ultralytics/Arial.ttf'...\n",
            "100% 755k/755k [00:00<00:00, 14.8MB/s]\n",
            "Overriding model.yaml nc=80 with nc=1\n",
            "\n",
            "                   from  n    params  module                                       arguments                     \n",
            "  0                  -1  1      1392  ultralytics.nn.modules.conv.Conv             [3, 48, 3, 2]                 \n",
            "  1                  -1  1     41664  ultralytics.nn.modules.conv.Conv             [48, 96, 3, 2]                \n",
            "  2                  -1  2    111360  ultralytics.nn.modules.block.C2f             [96, 96, 2, True]             \n",
            "  3                  -1  1    166272  ultralytics.nn.modules.conv.Conv             [96, 192, 3, 2]               \n",
            "  4                  -1  4    813312  ultralytics.nn.modules.block.C2f             [192, 192, 4, True]           \n",
            "  5                  -1  1    664320  ultralytics.nn.modules.conv.Conv             [192, 384, 3, 2]              \n",
            "  6                  -1  4   3248640  ultralytics.nn.modules.block.C2f             [384, 384, 4, True]           \n",
            "  7                  -1  1   1991808  ultralytics.nn.modules.conv.Conv             [384, 576, 3, 2]              \n",
            "  8                  -1  2   3985920  ultralytics.nn.modules.block.C2f             [576, 576, 2, True]           \n",
            "  9                  -1  1    831168  ultralytics.nn.modules.block.SPPF            [576, 576, 5]                 \n",
            " 10                  -1  1         0  torch.nn.modules.upsampling.Upsample         [None, 2, 'nearest']          \n",
            " 11             [-1, 6]  1         0  ultralytics.nn.modules.conv.Concat           [1]                           \n",
            " 12                  -1  2   1993728  ultralytics.nn.modules.block.C2f             [960, 384, 2]                 \n",
            " 13                  -1  1         0  torch.nn.modules.upsampling.Upsample         [None, 2, 'nearest']          \n",
            " 14             [-1, 4]  1         0  ultralytics.nn.modules.conv.Concat           [1]                           \n",
            " 15                  -1  2    517632  ultralytics.nn.modules.block.C2f             [576, 192, 2]                 \n",
            " 16                  -1  1    332160  ultralytics.nn.modules.conv.Conv             [192, 192, 3, 2]              \n",
            " 17            [-1, 12]  1         0  ultralytics.nn.modules.conv.Concat           [1]                           \n",
            " 18                  -1  2   1846272  ultralytics.nn.modules.block.C2f             [576, 384, 2]                 \n",
            " 19                  -1  1   1327872  ultralytics.nn.modules.conv.Conv             [384, 384, 3, 2]              \n",
            " 20             [-1, 9]  1         0  ultralytics.nn.modules.conv.Concat           [1]                           \n",
            " 21                  -1  2   4207104  ultralytics.nn.modules.block.C2f             [960, 576, 2]                 \n",
            " 22        [15, 18, 21]  1   3776275  ultralytics.nn.modules.head.Detect           [1, [192, 384, 576]]          \n",
            "Model summary: 295 layers, 25856899 parameters, 25856883 gradients, 79.1 GFLOPs\n",
            "\n",
            "Transferred 469/475 items from pretrained weights\n",
            "\u001b[34m\u001b[1mTensorBoard: \u001b[0mStart with 'tensorboard --logdir runs/detect/train2', view at http://localhost:6006/\n",
            "Freezing layer 'model.22.dfl.conv.weight'\n",
            "\u001b[34m\u001b[1mtrain: \u001b[0mScanning /content/datasets/Defect-3/train/labels... 9441 images, 0 backgrounds, 0 corrupt: 100% 9441/9441 [00:08<00:00, 1051.61it/s]\n",
            "\u001b[34m\u001b[1mtrain: \u001b[0mWARNING ⚠️ /content/datasets/Defect-3/train/images/beams_shear_failure-19-03_jpg.rf.7192bb55616f600d488e3769a58dd829.jpg: 1 duplicate labels removed\n",
            "\u001b[34m\u001b[1mtrain: \u001b[0mWARNING ⚠️ /content/datasets/Defect-3/train/images/beams_shear_failure-19-03_jpg.rf.8c5605c82a39025bcdf4d8f4356127ff.jpg: 2 duplicate labels removed\n",
            "\u001b[34m\u001b[1mtrain: \u001b[0mWARNING ⚠️ /content/datasets/Defect-3/train/images/beams_shear_failure-19-03_jpg.rf.f565129e9404a904bd24030f049087a3.jpg: 1 duplicate labels removed\n",
            "\u001b[34m\u001b[1mtrain: \u001b[0mWARNING ⚠️ /content/datasets/Defect-3/train/images/crack-165-_jpg.rf.f5fcb9220d7b5dce22f2e44f49114c5e.jpg: 2 duplicate labels removed\n",
            "\u001b[34m\u001b[1mtrain: \u001b[0mWARNING ⚠️ /content/datasets/Defect-3/train/images/crack-1688-_jpg.rf.78f46514446c1d35176304f2b475cf1e.jpg: 2 duplicate labels removed\n",
            "\u001b[34m\u001b[1mtrain: \u001b[0mWARNING ⚠️ /content/datasets/Defect-3/train/images/crack-1722-_jpg.rf.f603bd0e1e44e6c9a71c2538d9e403f1.jpg: 1 duplicate labels removed\n",
            "\u001b[34m\u001b[1mtrain: \u001b[0mWARNING ⚠️ /content/datasets/Defect-3/train/images/cracking0136_jpg.rf.b326332484e40aa060c762348a50f044.jpg: 1 duplicate labels removed\n",
            "\u001b[34m\u001b[1mtrain: \u001b[0mWARNING ⚠️ /content/datasets/Defect-3/train/images/cracking301_jpg.rf.bce5ab788a22922de459f56991aa326e.jpg: 1 duplicate labels removed\n",
            "\u001b[34m\u001b[1mtrain: \u001b[0mWARNING ⚠️ /content/datasets/Defect-3/train/images/images140_jpg.rf.afbe289a7b14fabfdaf38a02ee32a04d.jpg: 1 duplicate labels removed\n",
            "\u001b[34m\u001b[1mtrain: \u001b[0mNew cache created: /content/datasets/Defect-3/train/labels.cache\n",
            "\u001b[34m\u001b[1mval: \u001b[0mScanning /content/datasets/Defect-3/valid/labels... 614 images, 0 backgrounds, 0 corrupt: 100% 614/614 [00:00<00:00, 1130.04it/s]\n",
            "\u001b[34m\u001b[1mval: \u001b[0mNew cache created: /content/datasets/Defect-3/valid/labels.cache\n",
            "Plotting labels to runs/detect/train2/labels.jpg... \n",
            "\u001b[34m\u001b[1moptimizer:\u001b[0m SGD(lr=0.01, momentum=0.937) with parameter groups 77 weight(decay=0.0), 84 weight(decay=0.0005), 83 bias(decay=0.0)\n",
            "Image sizes 640 train, 640 val\n",
            "Using 0 dataloader workers\n",
            "Logging results to \u001b[1mruns/detect/train2\u001b[0m\n",
            "Starting training for 50 epochs...\n",
            "\n",
            "      Epoch    GPU_mem   box_loss   cls_loss   dfl_loss  Instances       Size\n",
            "       1/50         0G      1.653      2.873      1.766        475        640:  11% 16/148 [08:25<1:08:06, 30.96s/it]0.2\n",
            "11\n",
            "       1/50         0G       1.54      2.573      1.699        422        640:  24% 36/148 [18:33<57:10, 30.63s/it]https://symbolize.stripped_domain/r/?trace=56588e67a980,7bbc0c8f651f&map= \n",
            "*** SIGTERM received by PID 6721 (TID 6721) on cpu 66 from PID 6046; stack trace: ***\n",
            "PC: @     0x56588e67a980  (unknown)  (unknown)\n",
            "    @     0x7bb9e64214f9        928  (unknown)\n",
            "    @     0x7bbc0c8f6520  (unknown)  (unknown)\n",
            "https://symbolize.stripped_domain/r/?trace=56588e67a980,7bb9e64214f8,7bbc0c8f651f&map=5edeb7d86db111100e979a74159a3982:7bb9d6800000-7bb9e6640ba0 \n",
            "E0611 18:57:19.580221    6721 coredump_hook.cc:393] RAW: Remote crash gathering disabled for SIGTERM.\n",
            "E0611 18:57:19.586826    6721 process_state.cc:808] RAW: Raising signal 15 with default behavior\n",
            "^C\n"
          ]
        }
      ]
    },
    {
      "cell_type": "code",
      "source": [
        "import subprocess\n",
        "import random\n",
        "import yaml\n",
        "from ultralytics import YOLO\n",
        "import os\n",
        "\n",
        "def load_yaml(file_path):\n",
        "    with open(file_path, 'r') as file:\n",
        "        return yaml.safe_load(file)\n",
        "\n",
        "def train_and_evaluate(weight_accuracy, weight_generalizability, hyperparams):\n",
        "    command = (\n",
        "        f\"yolo task=detect mode=train model=yolov8m.pt data=/content/datasets/Defect-3/data.yaml \"\n",
        "        f\"epochs=10 batch={hyperparams['batch']} imgsz=640 optimizer={hyperparams['optimizer']} \"\n",
        "        f\"dropout={hyperparams['dropout']} augment=True\"\n",
        "    )\n",
        "\n",
        "    # Run the training command and capture output\n",
        "    try:\n",
        "        result = subprocess.run(command, shell=True, check=True, capture_output=True, text=True)\n",
        "        print(result.stdout)\n",
        "        print(result.stderr)\n",
        "    except subprocess.CalledProcessError as e:\n",
        "        print(f\"Error during training: {e.stderr}\")\n",
        "        return None, hyperparams, None, None\n",
        "\n",
        "    # Check if the weights file exists\n",
        "    weights_path = f\"{HOME}/runs/detect/train/weights/best.pt\"\n",
        "    if not os.path.exists(weights_path):\n",
        "        raise FileNotFoundError(f\"No such file: '{weights_path}'\")\n",
        "\n",
        "    # Load model and data\n",
        "    model = YOLO(weights_path)\n",
        "    data_yaml = load_yaml(f\"{dataset.location}/data.yaml\")\n",
        "    val_data = data_yaml['val']  # Assuming 'val' key contains validation data path\n",
        "\n",
        "    # Evaluate the model on validation data\n",
        "    results = model.predict(val_data)\n",
        "    accuracy = results.metric('accuracy')  # Replace with actual metric function\n",
        "    generalizability = 1 - results.metric('overfit_metric')  # Hypothetical example\n",
        "\n",
        "    # Custom objective function\n",
        "    objective = weight_accuracy * accuracy + weight_generalizability * generalizability\n",
        "    return objective, hyperparams, accuracy, generalizability\n",
        "\n",
        "# Define hyperparameter search space\n",
        "hyperparam_space = {\n",
        "    'optimizer': ['SGD', 'Adam'],\n",
        "    'dropout': [0.1, 0.2, 0.3, 0.4, 0.5],\n",
        "    'batch': [16, 32, 64]\n",
        "}\n",
        "\n",
        "# Scenarios\n",
        "scenarios = [\n",
        "    (0.6, 0.4),\n",
        "    (0.5, 0.5),\n",
        "    (0.9, 0.1),\n",
        "]\n",
        "\n",
        "results = []\n",
        "\n",
        "for weight_accuracy, weight_generalizability in scenarios:\n",
        "    # Randomly sample hyperparameters for each scenario\n",
        "    hyperparams = {key: random.choice(values) for key, values in hyperparam_space.items()}\n",
        "    objective, hyperparams, accuracy, generalizability = train_and_evaluate(weight_accuracy, weight_generalizability, hyperparams)\n",
        "    if objective is not None:\n",
        "        results.append({\n",
        "            'weight_accuracy': weight_accuracy,\n",
        "            'weight_generalizability': weight_generalizability,\n",
        "            'objective': objective,\n",
        "            'hyperparams': hyperparams,\n",
        "            'accuracy': accuracy,\n",
        "            'generalizability': generalizability,\n",
        "        })\n",
        "\n",
        "# Generate report\n",
        "for result in results:\n",
        "    print(f\"Scenario - Weight Accuracy: {result['weight_accuracy']}, Weight Generalizability: {result['weight_generalizability']}\")\n",
        "    print(f\"Best Hyperparameters: {result['hyperparams']}\")\n",
        "    print(f\"Objective Score: {result['objective']}\")\n",
        "    print(f\"Accuracy: {result['accuracy']}\")\n",
        "    print(f\"Generalizability: {result['generalizability']}\\n\")\n"
      ],
      "metadata": {
        "id": "csUMHffuaj_b",
        "colab": {
          "base_uri": "https://localhost:8080/"
        },
        "outputId": "f459a29c-09bc-40e4-bddd-da9303b91663"
      },
      "execution_count": null,
      "outputs": [
        {
          "output_type": "stream",
          "name": "stdout",
          "text": [
            "Error during training: New https://pypi.org/project/ultralytics/8.2.31 available 😃 Update with 'pip install -U ultralytics'\n",
            "Ultralytics YOLOv8.0.196 🚀 Python-3.10.12 torch-2.3.0+cu121 CPU (Intel Xeon 2.20GHz)\n",
            "\u001b[34m\u001b[1mengine/trainer: \u001b[0mtask=detect, mode=train, model=yolov8m.pt, data=/content/datasets/Defect-3/data.yaml, epochs=10, patience=50, batch=16, imgsz=640, save=True, save_period=-1, cache=False, device=None, workers=8, project=None, name=None, exist_ok=False, pretrained=True, optimizer=Adam, verbose=True, seed=0, deterministic=True, single_cls=False, rect=False, cos_lr=False, close_mosaic=10, resume=False, amp=True, fraction=1.0, profile=False, freeze=None, overlap_mask=True, mask_ratio=4, dropout=0.3, val=True, split=val, save_json=False, save_hybrid=False, conf=None, iou=0.7, max_det=300, half=False, dnn=False, plots=True, source=None, show=False, save_txt=False, save_conf=False, save_crop=False, show_labels=True, show_conf=True, vid_stride=1, stream_buffer=False, line_width=None, visualize=False, augment=True, agnostic_nms=False, classes=None, retina_masks=False, boxes=True, format=torchscript, keras=False, optimize=False, int8=False, dynamic=False, simplify=False, opset=None, workspace=4, nms=False, lr0=0.01, lrf=0.01, momentum=0.937, weight_decay=0.0005, warmup_epochs=3.0, warmup_momentum=0.8, warmup_bias_lr=0.1, box=7.5, cls=0.5, dfl=1.5, pose=12.0, kobj=1.0, label_smoothing=0.0, nbs=64, hsv_h=0.015, hsv_s=0.7, hsv_v=0.4, degrees=0.0, translate=0.1, scale=0.5, shear=0.0, perspective=0.0, flipud=0.0, fliplr=0.5, mosaic=1.0, mixup=0.0, copy_paste=0.0, cfg=None, tracker=botsort.yaml, save_dir=runs/detect/train12\n",
            "Downloading https://ultralytics.com/assets/Arial.ttf to '/root/.config/Ultralytics/Arial.ttf'...\n",
            "\n",
            "  0%|          | 0.00/755k [00:00<?, ?B/s]\n",
            "100%|██████████| 755k/755k [00:00<00:00, 25.8MB/s]\n",
            "2024-06-11 21:12:48.264111: E external/local_xla/xla/stream_executor/cuda/cuda_dnn.cc:9261] Unable to register cuDNN factory: Attempting to register factory for plugin cuDNN when one has already been registered\n",
            "2024-06-11 21:12:48.264217: E external/local_xla/xla/stream_executor/cuda/cuda_fft.cc:607] Unable to register cuFFT factory: Attempting to register factory for plugin cuFFT when one has already been registered\n",
            "2024-06-11 21:12:48.417730: E external/local_xla/xla/stream_executor/cuda/cuda_blas.cc:1515] Unable to register cuBLAS factory: Attempting to register factory for plugin cuBLAS when one has already been registered\n",
            "Overriding model.yaml nc=80 with nc=1\n",
            "\n",
            "                   from  n    params  module                                       arguments                     \n",
            "  0                  -1  1      1392  ultralytics.nn.modules.conv.Conv             [3, 48, 3, 2]                 \n",
            "  1                  -1  1     41664  ultralytics.nn.modules.conv.Conv             [48, 96, 3, 2]                \n",
            "  2                  -1  2    111360  ultralytics.nn.modules.block.C2f             [96, 96, 2, True]             \n",
            "  3                  -1  1    166272  ultralytics.nn.modules.conv.Conv             [96, 192, 3, 2]               \n",
            "  4                  -1  4    813312  ultralytics.nn.modules.block.C2f             [192, 192, 4, True]           \n",
            "  5                  -1  1    664320  ultralytics.nn.modules.conv.Conv             [192, 384, 3, 2]              \n",
            "  6                  -1  4   3248640  ultralytics.nn.modules.block.C2f             [384, 384, 4, True]           \n",
            "  7                  -1  1   1991808  ultralytics.nn.modules.conv.Conv             [384, 576, 3, 2]              \n",
            "  8                  -1  2   3985920  ultralytics.nn.modules.block.C2f             [576, 576, 2, True]           \n",
            "  9                  -1  1    831168  ultralytics.nn.modules.block.SPPF            [576, 576, 5]                 \n",
            " 10                  -1  1         0  torch.nn.modules.upsampling.Upsample         [None, 2, 'nearest']          \n",
            " 11             [-1, 6]  1         0  ultralytics.nn.modules.conv.Concat           [1]                           \n",
            " 12                  -1  2   1993728  ultralytics.nn.modules.block.C2f             [960, 384, 2]                 \n",
            " 13                  -1  1         0  torch.nn.modules.upsampling.Upsample         [None, 2, 'nearest']          \n",
            " 14             [-1, 4]  1         0  ultralytics.nn.modules.conv.Concat           [1]                           \n",
            " 15                  -1  2    517632  ultralytics.nn.modules.block.C2f             [576, 192, 2]                 \n",
            " 16                  -1  1    332160  ultralytics.nn.modules.conv.Conv             [192, 192, 3, 2]              \n",
            " 17            [-1, 12]  1         0  ultralytics.nn.modules.conv.Concat           [1]                           \n",
            " 18                  -1  2   1846272  ultralytics.nn.modules.block.C2f             [576, 384, 2]                 \n",
            " 19                  -1  1   1327872  ultralytics.nn.modules.conv.Conv             [384, 384, 3, 2]              \n",
            " 20             [-1, 9]  1         0  ultralytics.nn.modules.conv.Concat           [1]                           \n",
            " 21                  -1  2   4207104  ultralytics.nn.modules.block.C2f             [960, 576, 2]                 \n",
            " 22        [15, 18, 21]  1   3776275  ultralytics.nn.modules.head.Detect           [1, [192, 384, 576]]          \n",
            "Model summary: 295 layers, 25856899 parameters, 25856883 gradients, 79.1 GFLOPs\n",
            "\n",
            "Transferred 469/475 items from pretrained weights\n",
            "\u001b[34m\u001b[1mTensorBoard: \u001b[0mStart with 'tensorboard --logdir runs/detect/train12', view at http://localhost:6006/\n",
            "Freezing layer 'model.22.dfl.conv.weight'\n",
            "\n",
            "\u001b[34m\u001b[1mtrain: \u001b[0mScanning /content/datasets/Defect-3/train/labels...:   0%|          | 0/9441 [00:00<?, ?it/s]\n",
            "\u001b[34m\u001b[1mtrain: \u001b[0mScanning /content/datasets/Defect-3/train/labels... 109 images, 0 backgrounds, 0 corrupt:   1%|          | 109/9441 [00:00<00:08, 1089.30it/s]\n",
            "\u001b[34m\u001b[1mtrain: \u001b[0mScanning /content/datasets/Defect-3/train/labels... 258 images, 0 backgrounds, 0 corrupt:   3%|▎         | 258/9441 [00:00<00:06, 1320.07it/s]\n",
            "\u001b[34m\u001b[1mtrain: \u001b[0mScanning /content/datasets/Defect-3/train/labels... 402 images, 0 backgrounds, 0 corrupt:   4%|▍         | 402/9441 [00:00<00:06, 1371.34it/s]\n",
            "\u001b[34m\u001b[1mtrain: \u001b[0mScanning /content/datasets/Defect-3/train/labels... 545 images, 0 backgrounds, 0 corrupt:   6%|▌         | 545/9441 [00:00<00:06, 1393.03it/s]\n",
            "\u001b[34m\u001b[1mtrain: \u001b[0mScanning /content/datasets/Defect-3/train/labels... 688 images, 0 backgrounds, 0 corrupt:   7%|▋         | 688/9441 [00:00<00:06, 1400.35it/s]\n",
            "\u001b[34m\u001b[1mtrain: \u001b[0mScanning /content/datasets/Defect-3/train/labels... 829 images, 0 backgrounds, 0 corrupt:   9%|▉         | 829/9441 [00:00<00:06, 1361.56it/s]\n",
            "\u001b[34m\u001b[1mtrain: \u001b[0mScanning /content/datasets/Defect-3/train/labels... 966 images, 0 backgrounds, 0 corrupt:  10%|█         | 966/9441 [00:00<00:06, 1301.16it/s]\n",
            "\u001b[34m\u001b[1mtrain: \u001b[0mScanning /content/datasets/Defect-3/train/labels... 1097 images, 0 backgrounds, 0 corrupt:  12%|█▏        | 1097/9441 [00:00<00:06, 1289.06it/s]\n",
            "\u001b[34m\u001b[1mtrain: \u001b[0mScanning /content/datasets/Defect-3/train/labels... 1234 images, 0 backgrounds, 0 corrupt:  13%|█▎        | 1234/9441 [00:00<00:06, 1310.06it/s]\n",
            "\u001b[34m\u001b[1mtrain: \u001b[0mScanning /content/datasets/Defect-3/train/labels... 1366 images, 0 backgrounds, 0 corrupt:  14%|█▍        | 1366/9441 [00:01<00:06, 1300.63it/s]\n",
            "\u001b[34m\u001b[1mtrain: \u001b[0mScanning /content/datasets/Defect-3/train/labels... 1497 images, 0 backgrounds, 0 corrupt:  16%|█▌        | 1497/9441 [00:01<00:06, 1274.94it/s]\n",
            "\u001b[34m\u001b[1mtrain: \u001b[0mScanning /content/datasets/Defect-3/train/labels... 1635 images, 0 backgrounds, 0 corrupt:  17%|█▋        | 1635/9441 [00:01<00:05, 1302.91it/s]\n",
            "\u001b[34m\u001b[1mtrain: \u001b[0mScanning /content/datasets/Defect-3/train/labels... 1776 images, 0 backgrounds, 0 corrupt:  19%|█▉        | 1776/9441 [00:01<00:05, 1331.75it/s]\n",
            "\u001b[34m\u001b[1mtrain: \u001b[0mScanning /content/datasets/Defect-3/train/labels... 1921 images, 0 backgrounds, 0 corrupt:  20%|██        | 1921/9441 [00:01<00:05, 1366.56it/s]\n",
            "\u001b[34m\u001b[1mtrain: \u001b[0mScanning /content/datasets/Defect-3/train/labels... 2066 images, 0 backgrounds, 0 corrupt:  22%|██▏       | 2066/9441 [00:01<00:05, 1390.20it/s]\n",
            "\u001b[34m\u001b[1mtrain: \u001b[0mScanning /content/datasets/Defect-3/train/labels... 2209 images, 0 backgrounds, 0 corrupt:  23%|██▎       | 2209/9441 [00:01<00:05, 1401.90it/s]\n",
            "\u001b[34m\u001b[1mtrain: \u001b[0mScanning /content/datasets/Defect-3/train/labels... 2355 images, 0 backgrounds, 0 corrupt:  25%|██▍       | 2355/9441 [00:01<00:04, 1418.53it/s]\n",
            "\u001b[34m\u001b[1mtrain: \u001b[0mScanning /content/datasets/Defect-3/train/labels... 2507 images, 0 backgrounds, 0 corrupt:  27%|██▋       | 2507/9441 [00:01<00:04, 1448.65it/s]\n",
            "\u001b[34m\u001b[1mtrain: \u001b[0mScanning /content/datasets/Defect-3/train/labels... 2663 images, 0 backgrounds, 0 corrupt:  28%|██▊       | 2663/9441 [00:01<00:04, 1481.57it/s]\n",
            "\u001b[34m\u001b[1mtrain: \u001b[0mScanning /content/datasets/Defect-3/train/labels... 2821 images, 0 backgrounds, 0 corrupt:  30%|██▉       | 2821/9441 [00:02<00:04, 1510.48it/s]\n",
            "\u001b[34m\u001b[1mtrain: \u001b[0mScanning /content/datasets/Defect-3/train/labels... 2974 images, 0 backgrounds, 0 corrupt:  32%|███▏      | 2974/9441 [00:02<00:04, 1514.20it/s]\n",
            "\u001b[34m\u001b[1mtrain: \u001b[0mScanning /content/datasets/Defect-3/train/labels... 3128 images, 0 backgrounds, 0 corrupt:  33%|███▎      | 3128/9441 [00:02<00:04, 1519.27it/s]\n",
            "\u001b[34m\u001b[1mtrain: \u001b[0mScanning /content/datasets/Defect-3/train/labels... 3284 images, 0 backgrounds, 0 corrupt:  35%|███▍      | 3284/9441 [00:02<00:04, 1529.05it/s]\n",
            "\u001b[34m\u001b[1mtrain: \u001b[0mScanning /content/datasets/Defect-3/train/labels... 3440 images, 0 backgrounds, 0 corrupt:  36%|███▋      | 3440/9441 [00:02<00:03, 1537.04it/s]\n",
            "\u001b[34m\u001b[1mtrain: \u001b[0mScanning /content/datasets/Defect-3/train/labels... 3594 images, 0 backgrounds, 0 corrupt:  38%|███▊      | 3594/9441 [00:02<00:03, 1520.46it/s]\n",
            "\u001b[34m\u001b[1mtrain: \u001b[0mScanning /content/datasets/Defect-3/train/labels... 3747 images, 0 backgrounds, 0 corrupt:  40%|███▉      | 3747/9441 [00:02<00:03, 1502.89it/s]\n",
            "\u001b[34m\u001b[1mtrain: \u001b[0mScanning /content/datasets/Defect-3/train/labels... 3898 images, 0 backgrounds, 0 corrupt:  41%|████▏     | 3898/9441 [00:02<00:03, 1480.48it/s]\n",
            "\u001b[34m\u001b[1mtrain: \u001b[0mScanning /content/datasets/Defect-3/train/labels... 4047 images, 0 backgrounds, 0 corrupt:  43%|████▎     | 4047/9441 [00:02<00:03, 1480.93it/s]\n",
            "\u001b[34m\u001b[1mtrain: \u001b[0mScanning /content/datasets/Defect-3/train/labels... 4196 images, 0 backgrounds, 0 corrupt:  44%|████▍     | 4196/9441 [00:02<00:03, 1480.87it/s]\n",
            "\u001b[34m\u001b[1mtrain: \u001b[0mScanning /content/datasets/Defect-3/train/labels... 4346 images, 0 backgrounds, 0 corrupt:  46%|████▌     | 4346/9441 [00:03<00:03, 1485.15it/s]\n",
            "\u001b[34m\u001b[1mtrain: \u001b[0mScanning /content/datasets/Defect-3/train/labels... 4498 images, 0 backgrounds, 0 corrupt:  48%|████▊     | 4498/9441 [00:03<00:03, 1493.49it/s]\n",
            "\u001b[34m\u001b[1mtrain: \u001b[0mScanning /content/datasets/Defect-3/train/labels... 4648 images, 0 backgrounds, 0 corrupt:  49%|████▉     | 4648/9441 [00:03<00:03, 1410.71it/s]\n",
            "\u001b[34m\u001b[1mtrain: \u001b[0mScanning /content/datasets/Defect-3/train/labels... 4791 images, 0 backgrounds, 0 corrupt:  51%|█████     | 4791/9441 [00:03<00:03, 1330.77it/s]\n",
            "\u001b[34m\u001b[1mtrain: \u001b[0mScanning /content/datasets/Defect-3/train/labels... 4926 images, 0 backgrounds, 0 corrupt:  52%|█████▏    | 4926/9441 [00:03<00:03, 1287.86it/s]\n",
            "\u001b[34m\u001b[1mtrain: \u001b[0mScanning /content/datasets/Defect-3/train/labels... 5056 images, 0 backgrounds, 0 corrupt:  54%|█████▎    | 5056/9441 [00:03<00:03, 1281.17it/s]\n",
            "\u001b[34m\u001b[1mtrain: \u001b[0mScanning /content/datasets/Defect-3/train/labels... 5185 images, 0 backgrounds, 0 corrupt:  55%|█████▍    | 5185/9441 [00:03<00:03, 1258.03it/s]\n",
            "\u001b[34m\u001b[1mtrain: \u001b[0mScanning /content/datasets/Defect-3/train/labels... 5312 images, 0 backgrounds, 0 corrupt:  56%|█████▋    | 5312/9441 [00:03<00:03, 1249.81it/s]\n",
            "\u001b[34m\u001b[1mtrain: \u001b[0mScanning /content/datasets/Defect-3/train/labels... 5438 images, 0 backgrounds, 0 corrupt:  58%|█████▊    | 5438/9441 [00:03<00:03, 1230.07it/s]\n",
            "\u001b[34m\u001b[1mtrain: \u001b[0mScanning /content/datasets/Defect-3/train/labels... 5568 images, 0 backgrounds, 0 corrupt:  59%|█████▉    | 5568/9441 [00:04<00:03, 1248.26it/s]\n",
            "\u001b[34m\u001b[1mtrain: \u001b[0mScanning /content/datasets/Defect-3/train/labels... 5694 images, 0 backgrounds, 0 corrupt:  60%|██████    | 5694/9441 [00:04<00:02, 1250.08it/s]\n",
            "\u001b[34m\u001b[1mtrain: \u001b[0mScanning /content/datasets/Defect-3/train/labels... 5823 images, 0 backgrounds, 0 corrupt:  62%|██████▏   | 5823/9441 [00:04<00:02, 1261.55it/s]\n",
            "\u001b[34m\u001b[1mtrain: \u001b[0mScanning /content/datasets/Defect-3/train/labels... 5952 images, 0 backgrounds, 0 corrupt:  63%|██████▎   | 5952/9441 [00:04<00:02, 1267.00it/s]\n",
            "\u001b[34m\u001b[1mtrain: \u001b[0mScanning /content/datasets/Defect-3/train/labels... 6079 images, 0 backgrounds, 0 corrupt:  64%|██████▍   | 6079/9441 [00:04<00:02, 1238.16it/s]\n",
            "\u001b[34m\u001b[1mtrain: \u001b[0mScanning /content/datasets/Defect-3/train/labels... 6204 images, 0 backgrounds, 0 corrupt:  66%|██████▌   | 6204/9441 [00:04<00:02, 1192.19it/s]\n",
            "\u001b[34m\u001b[1mtrain: \u001b[0mScanning /content/datasets/Defect-3/train/labels... 6324 images, 0 backgrounds, 0 corrupt:  67%|██████▋   | 6324/9441 [00:04<00:02, 1180.91it/s]\n",
            "\u001b[34m\u001b[1mtrain: \u001b[0mScanning /content/datasets/Defect-3/train/labels... 6443 images, 0 backgrounds, 0 corrupt:  68%|██████▊   | 6443/9441 [00:04<00:02, 1164.54it/s]\n",
            "\u001b[34m\u001b[1mtrain: \u001b[0mScanning /content/datasets/Defect-3/train/labels... 6560 images, 0 backgrounds, 0 corrupt:  69%|██████▉   | 6560/9441 [00:04<00:02, 1135.86it/s]\n",
            "\u001b[34m\u001b[1mtrain: \u001b[0mScanning /content/datasets/Defect-3/train/labels... 6679 images, 0 backgrounds, 0 corrupt:  71%|███████   | 6679/9441 [00:04<00:02, 1150.49it/s]\n",
            "\u001b[34m\u001b[1mtrain: \u001b[0mScanning /content/datasets/Defect-3/train/labels... 6797 images, 0 backgrounds, 0 corrupt:  72%|███████▏  | 6797/9441 [00:05<00:02, 1156.84it/s]\n",
            "\u001b[34m\u001b[1mtrain: \u001b[0mScanning /content/datasets/Defect-3/train/labels... 6918 images, 0 backgrounds, 0 corrupt:  73%|███████▎  | 6918/9441 [00:05<00:02, 1172.28it/s]\n",
            "\u001b[34m\u001b[1mtrain: \u001b[0mScanning /content/datasets/Defect-3/train/labels... 7040 images, 0 backgrounds, 0 corrupt:  75%|███████▍  | 7040/9441 [00:05<00:02, 1183.29it/s]\n",
            "\u001b[34m\u001b[1mtrain: \u001b[0mScanning /content/datasets/Defect-3/train/labels... 7161 images, 0 backgrounds, 0 corrupt:  76%|███████▌  | 7161/9441 [00:05<00:01, 1190.35it/s]\n",
            "\u001b[34m\u001b[1mtrain: \u001b[0mScanning /content/datasets/Defect-3/train/labels... 7281 images, 0 backgrounds, 0 corrupt:  77%|███████▋  | 7281/9441 [00:05<00:01, 1184.61it/s]\n",
            "\u001b[34m\u001b[1mtrain: \u001b[0mScanning /content/datasets/Defect-3/train/labels... 7400 images, 0 backgrounds, 0 corrupt:  78%|███████▊  | 7400/9441 [00:05<00:01, 1178.03it/s]\n",
            "\u001b[34m\u001b[1mtrain: \u001b[0mScanning /content/datasets/Defect-3/train/labels... 7518 images, 0 backgrounds, 0 corrupt:  80%|███████▉  | 7518/9441 [00:05<00:01, 1174.20it/s]\n",
            "\u001b[34m\u001b[1mtrain: \u001b[0mScanning /content/datasets/Defect-3/train/labels... 7636 images, 0 backgrounds, 0 corrupt:  81%|████████  | 7636/9441 [00:05<00:01, 1174.56it/s]\n",
            "\u001b[34m\u001b[1mtrain: \u001b[0mScanning /content/datasets/Defect-3/train/labels... 7754 images, 0 backgrounds, 0 corrupt:  82%|████████▏ | 7754/9441 [00:05<00:01, 1140.90it/s]\n",
            "\u001b[34m\u001b[1mtrain: \u001b[0mScanning /content/datasets/Defect-3/train/labels... 7874 images, 0 backgrounds, 0 corrupt:  83%|████████▎ | 7874/9441 [00:06<00:01, 1157.05it/s]\n",
            "\u001b[34m\u001b[1mtrain: \u001b[0mScanning /content/datasets/Defect-3/train/labels... 7991 images, 0 backgrounds, 0 corrupt:  85%|████████▍ | 7991/9441 [00:06<00:01, 1160.31it/s]\n",
            "\u001b[34m\u001b[1mtrain: \u001b[0mScanning /content/datasets/Defect-3/train/labels... 8109 images, 0 backgrounds, 0 corrupt:  86%|████████▌ | 8109/9441 [00:06<00:01, 1163.82it/s]\n",
            "\u001b[34m\u001b[1mtrain: \u001b[0mScanning /content/datasets/Defect-3/train/labels... 8226 images, 0 backgrounds, 0 corrupt:  87%|████████▋ | 8226/9441 [00:06<00:01, 1151.93it/s]\n",
            "\u001b[34m\u001b[1mtrain: \u001b[0mScanning /content/datasets/Defect-3/train/labels... 8342 images, 0 backgrounds, 0 corrupt:  88%|████████▊ | 8342/9441 [00:06<00:00, 1131.07it/s]\n",
            "\u001b[34m\u001b[1mtrain: \u001b[0mScanning /content/datasets/Defect-3/train/labels... 8458 images, 0 backgrounds, 0 corrupt:  90%|████████▉ | 8458/9441 [00:06<00:00, 1139.24it/s]\n",
            "\u001b[34m\u001b[1mtrain: \u001b[0mScanning /content/datasets/Defect-3/train/labels... 8578 images, 0 backgrounds, 0 corrupt:  91%|█████████ | 8578/9441 [00:06<00:00, 1156.82it/s]\n",
            "\u001b[34m\u001b[1mtrain: \u001b[0mScanning /content/datasets/Defect-3/train/labels... 8694 images, 0 backgrounds, 0 corrupt:  92%|█████████▏| 8694/9441 [00:06<00:00, 1129.07it/s]\n",
            "\u001b[34m\u001b[1mtrain: \u001b[0mScanning /content/datasets/Defect-3/train/labels... 8816 images, 0 backgrounds, 0 corrupt:  93%|█████████▎| 8816/9441 [00:06<00:00, 1154.02it/s]\n",
            "\u001b[34m\u001b[1mtrain: \u001b[0mScanning /content/datasets/Defect-3/train/labels... 8932 images, 0 backgrounds, 0 corrupt:  95%|█████████▍| 8932/9441 [00:06<00:00, 1136.18it/s]\n",
            "\u001b[34m\u001b[1mtrain: \u001b[0mScanning /content/datasets/Defect-3/train/labels... 9049 images, 0 backgrounds, 0 corrupt:  96%|█████████▌| 9049/9441 [00:07<00:00, 1145.56it/s]\n",
            "\u001b[34m\u001b[1mtrain: \u001b[0mScanning /content/datasets/Defect-3/train/labels... 9164 images, 0 backgrounds, 0 corrupt:  97%|█████████▋| 9164/9441 [00:07<00:00, 1133.18it/s]\n",
            "\u001b[34m\u001b[1mtrain: \u001b[0mScanning /content/datasets/Defect-3/train/labels... 9278 images, 0 backgrounds, 0 corrupt:  98%|█████████▊| 9278/9441 [00:07<00:00, 1118.51it/s]\n",
            "\u001b[34m\u001b[1mtrain: \u001b[0mScanning /content/datasets/Defect-3/train/labels... 9390 images, 0 backgrounds, 0 corrupt:  99%|█████████▉| 9390/9441 [00:07<00:00, 1083.88it/s]\n",
            "\u001b[34m\u001b[1mtrain: \u001b[0mScanning /content/datasets/Defect-3/train/labels... 9441 images, 0 backgrounds, 0 corrupt: 100%|██████████| 9441/9441 [00:07<00:00, 1276.43it/s]\n",
            "\u001b[34m\u001b[1mtrain: \u001b[0mWARNING ⚠️ /content/datasets/Defect-3/train/images/beams_shear_failure-19-03_jpg.rf.7192bb55616f600d488e3769a58dd829.jpg: 1 duplicate labels removed\n",
            "\u001b[34m\u001b[1mtrain: \u001b[0mWARNING ⚠️ /content/datasets/Defect-3/train/images/beams_shear_failure-19-03_jpg.rf.8c5605c82a39025bcdf4d8f4356127ff.jpg: 2 duplicate labels removed\n",
            "\u001b[34m\u001b[1mtrain: \u001b[0mWARNING ⚠️ /content/datasets/Defect-3/train/images/beams_shear_failure-19-03_jpg.rf.f565129e9404a904bd24030f049087a3.jpg: 1 duplicate labels removed\n",
            "\u001b[34m\u001b[1mtrain: \u001b[0mWARNING ⚠️ /content/datasets/Defect-3/train/images/crack-165-_jpg.rf.f5fcb9220d7b5dce22f2e44f49114c5e.jpg: 2 duplicate labels removed\n",
            "\u001b[34m\u001b[1mtrain: \u001b[0mWARNING ⚠️ /content/datasets/Defect-3/train/images/crack-1688-_jpg.rf.78f46514446c1d35176304f2b475cf1e.jpg: 2 duplicate labels removed\n",
            "\u001b[34m\u001b[1mtrain: \u001b[0mWARNING ⚠️ /content/datasets/Defect-3/train/images/crack-1722-_jpg.rf.f603bd0e1e44e6c9a71c2538d9e403f1.jpg: 1 duplicate labels removed\n",
            "\u001b[34m\u001b[1mtrain: \u001b[0mWARNING ⚠️ /content/datasets/Defect-3/train/images/cracking0136_jpg.rf.b326332484e40aa060c762348a50f044.jpg: 1 duplicate labels removed\n",
            "\u001b[34m\u001b[1mtrain: \u001b[0mWARNING ⚠️ /content/datasets/Defect-3/train/images/cracking301_jpg.rf.bce5ab788a22922de459f56991aa326e.jpg: 1 duplicate labels removed\n",
            "\u001b[34m\u001b[1mtrain: \u001b[0mWARNING ⚠️ /content/datasets/Defect-3/train/images/images140_jpg.rf.afbe289a7b14fabfdaf38a02ee32a04d.jpg: 1 duplicate labels removed\n",
            "\u001b[34m\u001b[1mtrain: \u001b[0mNew cache created: /content/datasets/Defect-3/train/labels.cache\n",
            "\u001b[34m\u001b[1malbumentations: \u001b[0mBlur(p=0.01, blur_limit=(3, 7)), MedianBlur(p=0.01, blur_limit=(3, 7)), ToGray(p=0.01), CLAHE(p=0.01, clip_limit=(1, 4.0), tile_grid_size=(8, 8))\n",
            "\n",
            "\u001b[34m\u001b[1mval: \u001b[0mScanning /content/datasets/Defect-3/valid/labels...:   0%|          | 0/614 [00:00<?, ?it/s]\n",
            "\u001b[34m\u001b[1mval: \u001b[0mScanning /content/datasets/Defect-3/valid/labels... 132 images, 0 backgrounds, 0 corrupt:  21%|██▏       | 132/614 [00:00<00:00, 1317.49it/s]\n",
            "\u001b[34m\u001b[1mval: \u001b[0mScanning /content/datasets/Defect-3/valid/labels... 264 images, 0 backgrounds, 0 corrupt:  43%|████▎     | 264/614 [00:00<00:00, 1277.90it/s]\n",
            "\u001b[34m\u001b[1mval: \u001b[0mScanning /content/datasets/Defect-3/valid/labels... 399 images, 0 backgrounds, 0 corrupt:  65%|██████▍   | 399/614 [00:00<00:00, 1309.13it/s]\n",
            "\u001b[34m\u001b[1mval: \u001b[0mScanning /content/datasets/Defect-3/valid/labels... 531 images, 0 backgrounds, 0 corrupt:  86%|████████▋ | 531/614 [00:00<00:00, 1276.26it/s]\n",
            "\u001b[34m\u001b[1mval: \u001b[0mScanning /content/datasets/Defect-3/valid/labels... 614 images, 0 backgrounds, 0 corrupt: 100%|██████████| 614/614 [00:00<00:00, 1273.25it/s]\n",
            "\u001b[34m\u001b[1mval: \u001b[0mNew cache created: /content/datasets/Defect-3/valid/labels.cache\n",
            "Plotting labels to runs/detect/train12/labels.jpg... \n",
            "\u001b[34m\u001b[1moptimizer:\u001b[0m Adam(lr=0.01, momentum=0.937) with parameter groups 77 weight(decay=0.0), 84 weight(decay=0.0005), 83 bias(decay=0.0)\n",
            "Image sizes 640 train, 640 val\n",
            "Using 0 dataloader workers\n",
            "Logging results to \u001b[1mruns/detect/train12\u001b[0m\n",
            "Starting training for 10 epochs...\n",
            "Closing dataloader mosaic\n",
            "\u001b[34m\u001b[1malbumentations: \u001b[0mBlur(p=0.01, blur_limit=(3, 7)), MedianBlur(p=0.01, blur_limit=(3, 7)), ToGray(p=0.01), CLAHE(p=0.01, clip_limit=(1, 4.0), tile_grid_size=(8, 8))\n",
            "\n",
            "      Epoch    GPU_mem   box_loss   cls_loss   dfl_loss  Instances       Size\n",
            "\n",
            "  0%|          | 0/591 [00:00<?, ?it/s]Killed\n",
            "\n",
            "Error during training: New https://pypi.org/project/ultralytics/8.2.31 available 😃 Update with 'pip install -U ultralytics'\n",
            "Ultralytics YOLOv8.0.196 🚀 Python-3.10.12 torch-2.3.0+cu121 CPU (Intel Xeon 2.20GHz)\n",
            "\u001b[34m\u001b[1mengine/trainer: \u001b[0mtask=detect, mode=train, model=yolov8m.pt, data=/content/datasets/Defect-3/data.yaml, epochs=10, patience=50, batch=64, imgsz=640, save=True, save_period=-1, cache=False, device=None, workers=8, project=None, name=None, exist_ok=False, pretrained=True, optimizer=Adam, verbose=True, seed=0, deterministic=True, single_cls=False, rect=False, cos_lr=False, close_mosaic=10, resume=False, amp=True, fraction=1.0, profile=False, freeze=None, overlap_mask=True, mask_ratio=4, dropout=0.3, val=True, split=val, save_json=False, save_hybrid=False, conf=None, iou=0.7, max_det=300, half=False, dnn=False, plots=True, source=None, show=False, save_txt=False, save_conf=False, save_crop=False, show_labels=True, show_conf=True, vid_stride=1, stream_buffer=False, line_width=None, visualize=False, augment=True, agnostic_nms=False, classes=None, retina_masks=False, boxes=True, format=torchscript, keras=False, optimize=False, int8=False, dynamic=False, simplify=False, opset=None, workspace=4, nms=False, lr0=0.01, lrf=0.01, momentum=0.937, weight_decay=0.0005, warmup_epochs=3.0, warmup_momentum=0.8, warmup_bias_lr=0.1, box=7.5, cls=0.5, dfl=1.5, pose=12.0, kobj=1.0, label_smoothing=0.0, nbs=64, hsv_h=0.015, hsv_s=0.7, hsv_v=0.4, degrees=0.0, translate=0.1, scale=0.5, shear=0.0, perspective=0.0, flipud=0.0, fliplr=0.5, mosaic=1.0, mixup=0.0, copy_paste=0.0, cfg=None, tracker=botsort.yaml, save_dir=runs/detect/train13\n",
            "2024-06-11 21:14:28.054596: E external/local_xla/xla/stream_executor/cuda/cuda_dnn.cc:9261] Unable to register cuDNN factory: Attempting to register factory for plugin cuDNN when one has already been registered\n",
            "2024-06-11 21:14:28.054676: E external/local_xla/xla/stream_executor/cuda/cuda_fft.cc:607] Unable to register cuFFT factory: Attempting to register factory for plugin cuFFT when one has already been registered\n",
            "2024-06-11 21:14:28.184440: E external/local_xla/xla/stream_executor/cuda/cuda_blas.cc:1515] Unable to register cuBLAS factory: Attempting to register factory for plugin cuBLAS when one has already been registered\n",
            "Overriding model.yaml nc=80 with nc=1\n",
            "\n",
            "                   from  n    params  module                                       arguments                     \n",
            "  0                  -1  1      1392  ultralytics.nn.modules.conv.Conv             [3, 48, 3, 2]                 \n",
            "  1                  -1  1     41664  ultralytics.nn.modules.conv.Conv             [48, 96, 3, 2]                \n",
            "  2                  -1  2    111360  ultralytics.nn.modules.block.C2f             [96, 96, 2, True]             \n",
            "  3                  -1  1    166272  ultralytics.nn.modules.conv.Conv             [96, 192, 3, 2]               \n",
            "  4                  -1  4    813312  ultralytics.nn.modules.block.C2f             [192, 192, 4, True]           \n",
            "  5                  -1  1    664320  ultralytics.nn.modules.conv.Conv             [192, 384, 3, 2]              \n",
            "  6                  -1  4   3248640  ultralytics.nn.modules.block.C2f             [384, 384, 4, True]           \n",
            "  7                  -1  1   1991808  ultralytics.nn.modules.conv.Conv             [384, 576, 3, 2]              \n",
            "  8                  -1  2   3985920  ultralytics.nn.modules.block.C2f             [576, 576, 2, True]           \n",
            "  9                  -1  1    831168  ultralytics.nn.modules.block.SPPF            [576, 576, 5]                 \n",
            " 10                  -1  1         0  torch.nn.modules.upsampling.Upsample         [None, 2, 'nearest']          \n",
            " 11             [-1, 6]  1         0  ultralytics.nn.modules.conv.Concat           [1]                           \n",
            " 12                  -1  2   1993728  ultralytics.nn.modules.block.C2f             [960, 384, 2]                 \n",
            " 13                  -1  1         0  torch.nn.modules.upsampling.Upsample         [None, 2, 'nearest']          \n",
            " 14             [-1, 4]  1         0  ultralytics.nn.modules.conv.Concat           [1]                           \n",
            " 15                  -1  2    517632  ultralytics.nn.modules.block.C2f             [576, 192, 2]                 \n",
            " 16                  -1  1    332160  ultralytics.nn.modules.conv.Conv             [192, 192, 3, 2]              \n",
            " 17            [-1, 12]  1         0  ultralytics.nn.modules.conv.Concat           [1]                           \n",
            " 18                  -1  2   1846272  ultralytics.nn.modules.block.C2f             [576, 384, 2]                 \n",
            " 19                  -1  1   1327872  ultralytics.nn.modules.conv.Conv             [384, 384, 3, 2]              \n",
            " 20             [-1, 9]  1         0  ultralytics.nn.modules.conv.Concat           [1]                           \n",
            " 21                  -1  2   4207104  ultralytics.nn.modules.block.C2f             [960, 576, 2]                 \n",
            " 22        [15, 18, 21]  1   3776275  ultralytics.nn.modules.head.Detect           [1, [192, 384, 576]]          \n",
            "Model summary: 295 layers, 25856899 parameters, 25856883 gradients, 79.1 GFLOPs\n",
            "\n",
            "Transferred 469/475 items from pretrained weights\n",
            "\u001b[34m\u001b[1mTensorBoard: \u001b[0mStart with 'tensorboard --logdir runs/detect/train13', view at http://localhost:6006/\n",
            "Freezing layer 'model.22.dfl.conv.weight'\n",
            "\n",
            "\u001b[34m\u001b[1mtrain: \u001b[0mScanning /content/datasets/Defect-3/train/labels.cache... 9441 images, 0 backgrounds, 0 corrupt: 100%|██████████| 9441/9441 [00:00<?, ?it/s]\n",
            "\u001b[34m\u001b[1mtrain: \u001b[0mScanning /content/datasets/Defect-3/train/labels.cache... 9441 images, 0 backgrounds, 0 corrupt: 100%|██████████| 9441/9441 [00:00<?, ?it/s]\n",
            "\u001b[34m\u001b[1mtrain: \u001b[0mWARNING ⚠️ /content/datasets/Defect-3/train/images/beams_shear_failure-19-03_jpg.rf.7192bb55616f600d488e3769a58dd829.jpg: 1 duplicate labels removed\n",
            "\u001b[34m\u001b[1mtrain: \u001b[0mWARNING ⚠️ /content/datasets/Defect-3/train/images/beams_shear_failure-19-03_jpg.rf.8c5605c82a39025bcdf4d8f4356127ff.jpg: 2 duplicate labels removed\n",
            "\u001b[34m\u001b[1mtrain: \u001b[0mWARNING ⚠️ /content/datasets/Defect-3/train/images/beams_shear_failure-19-03_jpg.rf.f565129e9404a904bd24030f049087a3.jpg: 1 duplicate labels removed\n",
            "\u001b[34m\u001b[1mtrain: \u001b[0mWARNING ⚠️ /content/datasets/Defect-3/train/images/crack-165-_jpg.rf.f5fcb9220d7b5dce22f2e44f49114c5e.jpg: 2 duplicate labels removed\n",
            "\u001b[34m\u001b[1mtrain: \u001b[0mWARNING ⚠️ /content/datasets/Defect-3/train/images/crack-1688-_jpg.rf.78f46514446c1d35176304f2b475cf1e.jpg: 2 duplicate labels removed\n",
            "\u001b[34m\u001b[1mtrain: \u001b[0mWARNING ⚠️ /content/datasets/Defect-3/train/images/crack-1722-_jpg.rf.f603bd0e1e44e6c9a71c2538d9e403f1.jpg: 1 duplicate labels removed\n",
            "\u001b[34m\u001b[1mtrain: \u001b[0mWARNING ⚠️ /content/datasets/Defect-3/train/images/cracking0136_jpg.rf.b326332484e40aa060c762348a50f044.jpg: 1 duplicate labels removed\n",
            "\u001b[34m\u001b[1mtrain: \u001b[0mWARNING ⚠️ /content/datasets/Defect-3/train/images/cracking301_jpg.rf.bce5ab788a22922de459f56991aa326e.jpg: 1 duplicate labels removed\n",
            "\u001b[34m\u001b[1mtrain: \u001b[0mWARNING ⚠️ /content/datasets/Defect-3/train/images/images140_jpg.rf.afbe289a7b14fabfdaf38a02ee32a04d.jpg: 1 duplicate labels removed\n",
            "\u001b[34m\u001b[1malbumentations: \u001b[0mBlur(p=0.01, blur_limit=(3, 7)), MedianBlur(p=0.01, blur_limit=(3, 7)), ToGray(p=0.01), CLAHE(p=0.01, clip_limit=(1, 4.0), tile_grid_size=(8, 8))\n",
            "\n",
            "\u001b[34m\u001b[1mval: \u001b[0mScanning /content/datasets/Defect-3/valid/labels.cache... 614 images, 0 backgrounds, 0 corrupt: 100%|██████████| 614/614 [00:00<?, ?it/s]\n",
            "\u001b[34m\u001b[1mval: \u001b[0mScanning /content/datasets/Defect-3/valid/labels.cache... 614 images, 0 backgrounds, 0 corrupt: 100%|██████████| 614/614 [00:00<?, ?it/s]\n",
            "Plotting labels to runs/detect/train13/labels.jpg... \n",
            "\u001b[34m\u001b[1moptimizer:\u001b[0m Adam(lr=0.01, momentum=0.937) with parameter groups 77 weight(decay=0.0), 84 weight(decay=0.0005), 83 bias(decay=0.0)\n",
            "Image sizes 640 train, 640 val\n",
            "Using 0 dataloader workers\n",
            "Logging results to \u001b[1mruns/detect/train13\u001b[0m\n",
            "Starting training for 10 epochs...\n",
            "Closing dataloader mosaic\n",
            "\u001b[34m\u001b[1malbumentations: \u001b[0mBlur(p=0.01, blur_limit=(3, 7)), MedianBlur(p=0.01, blur_limit=(3, 7)), ToGray(p=0.01), CLAHE(p=0.01, clip_limit=(1, 4.0), tile_grid_size=(8, 8))\n",
            "\n",
            "      Epoch    GPU_mem   box_loss   cls_loss   dfl_loss  Instances       Size\n",
            "\n",
            "  0%|          | 0/148 [00:00<?, ?it/s]Killed\n",
            "\n"
          ]
        }
      ]
    },
    {
      "cell_type": "code",
      "source": [],
      "metadata": {
        "id": "OYCJwKgirdsn"
      },
      "execution_count": null,
      "outputs": []
    }
  ]
}